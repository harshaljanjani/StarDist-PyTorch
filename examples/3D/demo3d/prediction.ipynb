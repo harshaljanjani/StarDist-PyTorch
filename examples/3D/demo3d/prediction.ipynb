{
 "cells": [
  {
   "cell_type": "code",
   "execution_count": 1,
   "id": "5f57261b",
   "metadata": {},
   "outputs": [],
   "source": [
    "%load_ext autoreload\n",
    "%autoreload 2"
   ]
  },
  {
   "cell_type": "code",
   "execution_count": 2,
   "id": "7f84f52d",
   "metadata": {},
   "outputs": [
    {
     "name": "stdout",
     "output_type": "stream",
     "text": [
      "Root dir:  pytorch-stardist\n"
     ]
    }
   ],
   "source": [
    "### Adding root directory to sys.path (list of directories python look in for packages and modules)\n",
    "import sys, os\n",
    "from pathlib import Path\n",
    "\n",
    "\n",
    "root_dir = os.path.abspath(\"../../../\")\n",
    "print(\"Root dir: \", Path(root_dir).stem)\n",
    "sys.path.append( root_dir )"
   ]
  },
  {
   "cell_type": "code",
   "execution_count": 3,
   "id": "9a798214",
   "metadata": {},
   "outputs": [],
   "source": [
    "import time\n",
    "from pathlib import Path\n",
    "\n",
    "from tqdm import tqdm\n",
    "\n",
    "import numpy as np\n",
    "import pandas as pd\n",
    "import matplotlib.pyplot as plt\n",
    "\n",
    "\n",
    "import torch\n",
    "\n",
    "\n",
    "from stardist_tools import calculate_extents, Rays_GoldenSpiral\n",
    "from stardist_tools.matching import matching, matching_dataset\n",
    "\n",
    "\n",
    "from src.training import train\n",
    "\n",
    "from src.data.utils import load_img, save_img\n",
    "\n",
    "from utils import seed_all, prepare_conf, plot_img_label\n",
    "\n",
    "from stardist_tools.csbdeep_utils import normalize\n",
    "from src.models.config import Config3D\n",
    "from src.models.stardist3d import StarDist3D"
   ]
  },
  {
   "cell_type": "code",
   "execution_count": null,
   "id": "51a847ac",
   "metadata": {},
   "outputs": [],
   "source": []
  },
  {
   "cell_type": "markdown",
   "id": "5f79d514",
   "metadata": {},
   "source": [
    "### Data"
   ]
  },
  {
   "cell_type": "code",
   "execution_count": 4,
   "id": "0dfa937c",
   "metadata": {},
   "outputs": [
    {
     "data": {
      "text/plain": [
       "3"
      ]
     },
     "execution_count": 4,
     "metadata": {},
     "output_type": "execute_result"
    }
   ],
   "source": [
    "image_dir = r\"datasets/demo/test/images\"\n",
    "\n",
    "image_paths = list( Path(image_dir).glob(\"*.tif\") )\n",
    "len(image_paths)"
   ]
  },
  {
   "cell_type": "code",
   "execution_count": 5,
   "id": "8d8d3ab1",
   "metadata": {},
   "outputs": [
    {
     "data": {
      "text/plain": [
       "(64, 128, 128)"
      ]
     },
     "execution_count": 5,
     "metadata": {},
     "output_type": "execute_result"
    }
   ],
   "source": [
    "x = load_img(image_paths[0])\n",
    "x.shape"
   ]
  },
  {
   "cell_type": "code",
   "execution_count": 6,
   "id": "253c901c",
   "metadata": {},
   "outputs": [],
   "source": [
    "n_channel = 1 if x.ndim == 3 else x.shape[-1]\n",
    "\n",
    "axis_norm = axis_norm = (-1, -2, -3) # # normalize channels independently\n",
    "#axis_norm = axis_norm = (-1, -2, -3, -4) # # normalize channels jointly\n",
    "if n_channel > 1:\n",
    "    print(\"Normalizing image channels %s.\" % ('jointly' if axis_norm is None or -4 in axis_norm else 'independently'))"
   ]
  },
  {
   "cell_type": "markdown",
   "id": "cdae6e07",
   "metadata": {},
   "source": [
    "### Load trained model"
   ]
  },
  {
   "cell_type": "code",
   "execution_count": 7,
   "id": "b6ba31fb",
   "metadata": {},
   "outputs": [
    {
     "name": "stdout",
     "output_type": "stream",
     "text": [
      "Load path: checkpoints\\demo\\best.pth cuda:0\n",
      "Loading threholds ...\n",
      "Instanciating network\n",
      "initialize network with normal\n",
      "Network [StarDistResnet] was created. Total number of parameters: 1.6 million. To see the architecture, do print(network).\n",
      "<All keys matched successfully>\n",
      "Loading model from <checkpoints\\demo\\best.pth>.\n",
      "\n"
     ]
    }
   ],
   "source": [
    "conf = Config3D(\n",
    "    name                           = 'demo',\n",
    "    use_gpu                        = True if torch.cuda.is_available() else None,\n",
    "    use_amp                        = True,\n",
    "    isTrain                        = False ,\n",
    "    load_epoch                     = \"best\",\n",
    ")\n",
    "\n",
    "model = StarDist3D(conf)"
   ]
  },
  {
   "cell_type": "code",
   "execution_count": 8,
   "id": "caaa1536",
   "metadata": {},
   "outputs": [
    {
     "data": {
      "text/plain": [
       "(305, {'prob': 0.726973231031345, 'nms': 0.3})"
      ]
     },
     "execution_count": 8,
     "metadata": {},
     "output_type": "execute_result"
    }
   ],
   "source": [
    "model.opt.epoch_count, model.thresholds"
   ]
  },
  {
   "cell_type": "code",
   "execution_count": 9,
   "id": "d279c3f7",
   "metadata": {},
   "outputs": [
    {
     "data": {
      "text/plain": [
       "{'name': 'Rays_GoldenSpiral',\n",
       " 'kwargs': {'n': 96, 'anisotropy': (2.0, 1.0, 1.0)}}"
      ]
     },
     "execution_count": 9,
     "metadata": {},
     "output_type": "execute_result"
    }
   ],
   "source": [
    "model.opt.rays_json"
   ]
  },
  {
   "cell_type": "markdown",
   "id": "4b09ba90",
   "metadata": {},
   "source": [
    "### Prediction"
   ]
  },
  {
   "cell_type": "code",
   "execution_count": 10,
   "id": "f66e70f9",
   "metadata": {},
   "outputs": [
    {
     "name": "stdout",
     "output_type": "stream",
     "text": [
      "Predictions will be saved at:  datasets\\demo\\test\\images\\predictions\\model_demo_epoch_best\n"
     ]
    }
   ],
   "source": [
    "dest_dir = Path(image_dir) / f\"predictions/model_{model.opt.name}_epoch_{conf.load_epoch}\"\n",
    "\n",
    "dest_dir = Path(dest_dir)\n",
    "os.makedirs(dest_dir, exist_ok=True)\n",
    "\n",
    "print(\"Predictions will be saved at: \", dest_dir)"
   ]
  },
  {
   "cell_type": "code",
   "execution_count": 11,
   "id": "fc79c510",
   "metadata": {},
   "outputs": [],
   "source": [
    "# If you get out of memory issue, set `patch_size` to a size lower than the size your image and higher than the size on a nuclei\n",
    "# This will perform inference on patches of size `patch_size` from your image before reconstructing the final instance mask.\n",
    "# The result will not differ from what you would obtained by doing inference on the whole image.\n",
    "\n",
    "patch_size = None #(32, 64, 64)"
   ]
  },
  {
   "cell_type": "code",
   "execution_count": 12,
   "id": "73b15031",
   "metadata": {},
   "outputs": [
    {
     "name": "stderr",
     "output_type": "stream",
     "text": [
      "100%|████████████████████████████████████████████████████████████████████████████████████| 3/3 [00:07<00:00,  2.46s/it]\n"
     ]
    }
   ],
   "source": [
    "for image_path in tqdm(image_paths):\n",
    "    image = load_img(image_path)\n",
    "    if image.ndim==3:\n",
    "        image = image[np.newaxis]\n",
    "    \n",
    "    image = normalize(image, 1,99.8,axis=axis_norm)\n",
    "    \n",
    "    pred_mask = model.predict_instance(image, patch_size=patch_size)[0]\n",
    "    mask_path = dest_dir / f\"{image_path.name}\"\n",
    "    \n",
    "    save_img(mask_path, pred_mask)"
   ]
  }
 ],
 "metadata": {
  "kernelspec": {
   "display_name": "Python 3 (ipykernel)",
   "language": "python",
   "name": "python3"
  },
  "language_info": {
   "codemirror_mode": {
    "name": "ipython",
    "version": 3
   },
   "file_extension": ".py",
   "mimetype": "text/x-python",
   "name": "python",
   "nbconvert_exporter": "python",
   "pygments_lexer": "ipython3",
   "version": "3.7.9"
  }
 },
 "nbformat": 4,
 "nbformat_minor": 5
}
