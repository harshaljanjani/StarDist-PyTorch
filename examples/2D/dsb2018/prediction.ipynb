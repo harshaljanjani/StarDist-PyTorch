{
 "cells": [
  {
   "cell_type": "code",
   "execution_count": 1,
   "id": "1341d9c3",
   "metadata": {},
   "outputs": [],
   "source": [
    "%load_ext autoreload\n",
    "%autoreload 2"
   ]
  },
  {
   "cell_type": "code",
   "execution_count": 2,
   "id": "17c89e2e",
   "metadata": {},
   "outputs": [],
   "source": [
    "### Adding root directory to sys.path (list of directories python look in for packages and modules)\n",
    "import sys, os\n",
    "\n",
    "root_dir = os.path.abspath(\"../../..\")\n",
    "sys.path.append( root_dir )"
   ]
  },
  {
   "cell_type": "code",
   "execution_count": 3,
   "id": "0196f3f7",
   "metadata": {},
   "outputs": [],
   "source": [
    "import time\n",
    "from pathlib import Path\n",
    "\n",
    "from tqdm import tqdm\n",
    "\n",
    "import numpy as np\n",
    "import pandas as pd\n",
    "import matplotlib.pyplot as plt\n",
    "\n",
    "\n",
    "import torch\n",
    "\n",
    "\n",
    "from stardist_tools import calculate_extents, Rays_GoldenSpiral#, random_label_cmap, relabel_image_stardist3D\n",
    "from stardist_tools.matching import matching, matching_dataset\n",
    "\n",
    "\n",
    "from src.training import train\n",
    "\n",
    "from src.data.utils import load_img, save_img\n",
    "\n",
    "from utils import seed_all, prepare_conf, plot_img_label\n",
    "\n",
    "from stardist_tools.csbdeep_utils import normalize\n",
    "from src.models.config import ConfigBase, Config2D\n",
    "from src.models.stardist2d import StarDist2D"
   ]
  },
  {
   "cell_type": "code",
   "execution_count": null,
   "id": "4995e018",
   "metadata": {},
   "outputs": [],
   "source": []
  },
  {
   "cell_type": "markdown",
   "id": "997f956f",
   "metadata": {},
   "source": [
    "### Data"
   ]
  },
  {
   "cell_type": "code",
   "execution_count": 4,
   "id": "6cc6bcec",
   "metadata": {},
   "outputs": [
    {
     "data": {
      "text/plain": [
       "50"
      ]
     },
     "execution_count": 4,
     "metadata": {},
     "output_type": "execute_result"
    }
   ],
   "source": [
    "image_dir = r\"datasets\\dsb2018/test/images\"\n",
    "\n",
    "image_paths = list( Path(image_dir).glob(\"*.tif\") )\n",
    "len(image_paths)"
   ]
  },
  {
   "cell_type": "code",
   "execution_count": 5,
   "id": "9b732e41",
   "metadata": {},
   "outputs": [
    {
     "data": {
      "text/plain": [
       "(256, 256)"
      ]
     },
     "execution_count": 5,
     "metadata": {},
     "output_type": "execute_result"
    }
   ],
   "source": [
    "x = load_img(image_paths[0])\n",
    "x.shape"
   ]
  },
  {
   "cell_type": "code",
   "execution_count": 6,
   "id": "6ba0100c",
   "metadata": {},
   "outputs": [
    {
     "name": "stdout",
     "output_type": "stream",
     "text": [
      "Normalizing image channels independently.\n"
     ]
    }
   ],
   "source": [
    "n_channel = 1 if x.ndim == 3 else x.shape[-1]\n",
    "\n",
    "axis_norm = axis_norm = (-1, -2) # # normalize channels independently\n",
    "#axis_norm = axis_norm = (-1, -2, -3) # # normalize channels jointly\n",
    "if n_channel > 1:\n",
    "    print(\"Normalizing image channels %s.\" % ('jointly' if axis_norm is None or -3 in axis_norm else 'independently'))"
   ]
  },
  {
   "cell_type": "markdown",
   "id": "a0e07b58",
   "metadata": {},
   "source": [
    "### Load trained model"
   ]
  },
  {
   "cell_type": "code",
   "execution_count": 7,
   "id": "23b43850",
   "metadata": {},
   "outputs": [
    {
     "name": "stdout",
     "output_type": "stream",
     "text": [
      "Load path: checkpoints\\dsb2018_fluo\\best.pth cuda:0\n",
      "Loading threholds ...\n",
      "Instanciating network\n",
      "initialize network with normal\n",
      "Network [StarDistResnet] was created. Total number of parameters: 0.5 million. To see the architecture, do print(network).\n",
      "<All keys matched successfully>\n",
      "Loading model from <checkpoints\\dsb2018_fluo\\best.pth>.\n",
      "\n"
     ]
    }
   ],
   "source": [
    "conf = Config2D(\n",
    "    name                           = 'dsb2018_fluo',\n",
    "    use_gpu                        = True if torch.cuda.is_available() else None,\n",
    "    use_amp                        = True,\n",
    "    isTrain                        = False ,\n",
    "    load_epoch                     = \"best\",\n",
    ")\n",
    "\n",
    "model = StarDist2D(conf)"
   ]
  },
  {
   "cell_type": "code",
   "execution_count": 8,
   "id": "d1fb86a2",
   "metadata": {},
   "outputs": [
    {
     "data": {
      "text/plain": [
       "(393, {'prob': 0.4737231433391571, 'nms': 0.3})"
      ]
     },
     "execution_count": 8,
     "metadata": {},
     "output_type": "execute_result"
    }
   ],
   "source": [
    "model.opt.epoch_count, model.thresholds"
   ]
  },
  {
   "cell_type": "markdown",
   "id": "690692a4",
   "metadata": {},
   "source": [
    "### Prediction"
   ]
  },
  {
   "cell_type": "code",
   "execution_count": 9,
   "id": "0e4bcaa5",
   "metadata": {},
   "outputs": [
    {
     "name": "stdout",
     "output_type": "stream",
     "text": [
      "Predictions will be saved at:  datasets\\dsb2018\\test\\images\\predictions\\model_dsb2018_fluo_epoch_best\n"
     ]
    }
   ],
   "source": [
    "dest_dir = Path(image_dir) / f\"predictions/model_{model.opt.name}_epoch_{conf.load_epoch}\"\n",
    "\n",
    "dest_dir = Path(dest_dir)\n",
    "os.makedirs(dest_dir, exist_ok=True)\n",
    "\n",
    "print(\"Predictions will be saved at: \", dest_dir)"
   ]
  },
  {
   "cell_type": "code",
   "execution_count": 12,
   "id": "22725b17",
   "metadata": {},
   "outputs": [
    {
     "name": "stderr",
     "output_type": "stream",
     "text": [
      "100%|██████████████████████████████████████████████████████████████████████████████████| 50/50 [00:07<00:00,  6.87it/s]\n"
     ]
    }
   ],
   "source": [
    "for image_path in tqdm(image_paths):\n",
    "    image = load_img(image_path).squeeze()\n",
    "    if image.ndim==2:\n",
    "        image = image[np.newaxis]\n",
    "    \n",
    "    image = normalize(image, 1,99.8,axis=axis_norm)\n",
    "    \n",
    "    pred_mask = model.predict_instance(image)[0]\n",
    "    mask_path = dest_dir / f\"{image_path.name}\"\n",
    "    \n",
    "    save_img(mask_path, pred_mask)"
   ]
  }
 ],
 "metadata": {
  "kernelspec": {
   "display_name": "Python 3 (ipykernel)",
   "language": "python",
   "name": "python3"
  },
  "language_info": {
   "codemirror_mode": {
    "name": "ipython",
    "version": 3
   },
   "file_extension": ".py",
   "mimetype": "text/x-python",
   "name": "python",
   "nbconvert_exporter": "python",
   "pygments_lexer": "ipython3",
   "version": "3.7.9"
  }
 },
 "nbformat": 4,
 "nbformat_minor": 5
}
